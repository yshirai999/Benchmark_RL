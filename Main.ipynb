{
 "cells": [
  {
   "cell_type": "code",
   "execution_count": 4,
   "metadata": {},
   "outputs": [],
   "source": [
    "from Env import BenchmarkReplication\n",
    "import gymnasium as gym"
   ]
  },
  {
   "cell_type": "code",
   "execution_count": 5,
   "metadata": {},
   "outputs": [],
   "source": [
    "Benv = BenchmarkReplication(W = 100, N = 10, Dynamics = 'BS', start_time = 0, T = 26, dT = 1, r = 0, mu = [0.03,0.01], sigma = [0.3, 0.2])"
   ]
  },
  {
   "cell_type": "code",
   "execution_count": 6,
   "metadata": {},
   "outputs": [
    {
     "name": "stdout",
     "output_type": "stream",
     "text": [
      "<bound method Box.sample of Box(-inf, inf, (4, 10), float32)>\n"
     ]
    }
   ],
   "source": [
    "a = Benv.action_space.sample\n",
    "print(a)"
   ]
  },
  {
   "cell_type": "code",
   "execution_count": 7,
   "metadata": {},
   "outputs": [
    {
     "name": "stdout",
     "output_type": "stream",
     "text": [
      "[350.0, 17.5] [650.0, 32.5]\n"
     ]
    },
    {
     "ename": "TypeError",
     "evalue": "can't multiply sequence by non-int of type 'float'",
     "output_type": "error",
     "traceback": [
      "\u001b[1;31m---------------------------------------------------------------------------\u001b[0m",
      "\u001b[1;31mTypeError\u001b[0m                                 Traceback (most recent call last)",
      "Cell \u001b[1;32mIn[7], line 2\u001b[0m\n\u001b[0;32m      1\u001b[0m Benv\u001b[38;5;241m.\u001b[39mreset()\n\u001b[1;32m----> 2\u001b[0m \u001b[43mBenv\u001b[49m\u001b[38;5;241;43m.\u001b[39;49m\u001b[43mstep\u001b[49m\u001b[43m(\u001b[49m\u001b[43ma\u001b[49m\u001b[43m)\u001b[49m\n",
      "File \u001b[1;32mc:\\Users\\yoshi\\OneDrive\\Desktop\\Research\\Benchmark_RL\\Env.py:55\u001b[0m, in \u001b[0;36mBenchmarkReplication.step\u001b[1;34m(self, action)\u001b[0m\n\u001b[0;32m     53\u001b[0m k1 \u001b[38;5;241m=\u001b[39m np\u001b[38;5;241m.\u001b[39mlinspace(kmin[\u001b[38;5;241m1\u001b[39m],kmax[\u001b[38;5;241m1\u001b[39m],N)\n\u001b[0;32m     54\u001b[0m \u001b[38;5;28;01mif\u001b[39;00m \u001b[38;5;28mself\u001b[39m\u001b[38;5;241m.\u001b[39mDynamics \u001b[38;5;241m==\u001b[39m \u001b[38;5;124m'\u001b[39m\u001b[38;5;124mBS\u001b[39m\u001b[38;5;124m'\u001b[39m:\n\u001b[1;32m---> 55\u001b[0m     O \u001b[38;5;241m=\u001b[39m \u001b[43mBSprice\u001b[49m\u001b[43m(\u001b[49m\u001b[43mS\u001b[49m\u001b[43m,\u001b[49m\u001b[43mk0\u001b[49m\u001b[43m,\u001b[49m\u001b[43mk1\u001b[49m\u001b[43m,\u001b[49m\u001b[38;5;28;43mself\u001b[39;49m\u001b[38;5;241;43m.\u001b[39;49m\u001b[43mr\u001b[49m\u001b[43m,\u001b[49m\u001b[38;5;28;43mself\u001b[39;49m\u001b[38;5;241;43m.\u001b[39;49m\u001b[43mdT\u001b[49m\u001b[43m,\u001b[49m\u001b[38;5;28;43mself\u001b[39;49m\u001b[38;5;241;43m.\u001b[39;49m\u001b[43msigma\u001b[49m\u001b[43m)\u001b[49m\n\u001b[0;32m     56\u001b[0m \u001b[38;5;28;01melse\u001b[39;00m:\n\u001b[0;32m     57\u001b[0m     O \u001b[38;5;241m=\u001b[39m BGprice(S,k0,k1,\u001b[38;5;28mself\u001b[39m\u001b[38;5;241m.\u001b[39mr,\u001b[38;5;28mself\u001b[39m\u001b[38;5;241m.\u001b[39mdT,\u001b[38;5;28mself\u001b[39m\u001b[38;5;241m.\u001b[39msigma)\n",
      "File \u001b[1;32mc:\\Users\\yoshi\\OneDrive\\Desktop\\Research\\Benchmark_RL\\Pricers.py:6\u001b[0m, in \u001b[0;36mBSprice\u001b[1;34m(S, k0, k1, r, T, sigma)\u001b[0m\n\u001b[0;32m      4\u001b[0m \u001b[38;5;28;01mdef\u001b[39;00m \u001b[38;5;21mBSprice\u001b[39m(S: \u001b[38;5;28mlist\u001b[39m[\u001b[38;5;28mfloat\u001b[39m], k0: np\u001b[38;5;241m.\u001b[39mndarray, k1: np\u001b[38;5;241m.\u001b[39mndarray, r: \u001b[38;5;28mfloat\u001b[39m, T: \u001b[38;5;28mfloat\u001b[39m, sigma: \u001b[38;5;28mfloat\u001b[39m) \u001b[38;5;241m-\u001b[39m\u001b[38;5;241m>\u001b[39m \u001b[38;5;28mlist\u001b[39m[np\u001b[38;5;241m.\u001b[39mndarray]:\n\u001b[1;32m----> 6\u001b[0m     d1 \u001b[38;5;241m=\u001b[39m ( np\u001b[38;5;241m.\u001b[39mlog(k0\u001b[38;5;241m/\u001b[39mS[\u001b[38;5;241m0\u001b[39m]) \u001b[38;5;241m+\u001b[39m \u001b[38;5;241;43m0.5\u001b[39;49m\u001b[38;5;241;43m*\u001b[39;49m\u001b[43msigma\u001b[49m\u001b[38;5;241m*\u001b[39msigma\u001b[38;5;241m*\u001b[39mnp\u001b[38;5;241m.\u001b[39msqrt(T) ) \u001b[38;5;241m/\u001b[39m sigma\u001b[38;5;241m*\u001b[39mnp\u001b[38;5;241m.\u001b[39msqrt(T)\n\u001b[0;32m      7\u001b[0m     d2 \u001b[38;5;241m=\u001b[39m d1 \u001b[38;5;241m-\u001b[39m sigma\u001b[38;5;241m*\u001b[39mnp\u001b[38;5;241m.\u001b[39msqrt(T)\n\u001b[0;32m      8\u001b[0m     C0 \u001b[38;5;241m=\u001b[39m sp\u001b[38;5;241m.\u001b[39mnorm\u001b[38;5;241m.\u001b[39mcdf(d1)\u001b[38;5;241m*\u001b[39mS[\u001b[38;5;241m0\u001b[39m]\u001b[38;5;241m-\u001b[39msp\u001b[38;5;241m.\u001b[39mnorm\u001b[38;5;241m.\u001b[39mcdf(d2)\u001b[38;5;241m*\u001b[39mk0\u001b[38;5;241m*\u001b[39mnp\u001b[38;5;241m.\u001b[39mexp(\u001b[38;5;241m-\u001b[39mr\u001b[38;5;241m*\u001b[39mT)\n",
      "\u001b[1;31mTypeError\u001b[0m: can't multiply sequence by non-int of type 'float'"
     ]
    }
   ],
   "source": [
    "Benv.reset()\n",
    "Benv.step(a)"
   ]
  },
  {
   "cell_type": "code",
   "execution_count": null,
   "metadata": {},
   "outputs": [],
   "source": []
  }
 ],
 "metadata": {
  "kernelspec": {
   "display_name": "Python 3",
   "language": "python",
   "name": "python3"
  },
  "language_info": {
   "codemirror_mode": {
    "name": "ipython",
    "version": 3
   },
   "file_extension": ".py",
   "mimetype": "text/x-python",
   "name": "python",
   "nbconvert_exporter": "python",
   "pygments_lexer": "ipython3",
   "version": "3.11.9"
  }
 },
 "nbformat": 4,
 "nbformat_minor": 2
}
