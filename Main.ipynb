{
 "cells": [
  {
   "cell_type": "code",
   "execution_count": 1,
   "metadata": {},
   "outputs": [],
   "source": [
    "from Env import BenchmarkReplication\n",
    "import gymnasium as gym\n",
    "from stable_baselines3 import PPO\n",
    "from stable_baselines3.common.evaluation import evaluate_policy\n",
    "from stable_baselines3.common.vec_env import DummyVecEnv\n",
    "from stable_baselines3.common.env_checker import check_env\n",
    "import numpy as np\n",
    "import random"
   ]
  },
  {
   "cell_type": "code",
   "execution_count": 2,
   "metadata": {},
   "outputs": [
    {
     "name": "stdout",
     "output_type": "stream",
     "text": [
      "Using cpu device\n"
     ]
    }
   ],
   "source": [
    "Benv = BenchmarkReplication(W = 1, N = 10, Nsim = 100, Dynamics = 'BS', start_time = 0, T = 26, dT = 1, r = 0, mu = [0.03,0.01], sigma = [0.3, 0.2])\n",
    "#check_env(Benv) #check environment is accepted by SB3\n",
    "Benv.seed(seed=random.seed(10))\n",
    "model = PPO('MlpPolicy', DummyVecEnv([lambda: Benv]), learning_rate=0.001, verbose=1)"
   ]
  },
  {
   "cell_type": "code",
   "execution_count": 3,
   "metadata": {},
   "outputs": [
    {
     "name": "stdout",
     "output_type": "stream",
     "text": [
      "== CURRENT SYSTEM INFO ==\n",
      "- OS: Windows-10-10.0.22631-SP0 10.0.22631\n",
      "- Python: 3.11.9\n",
      "- Stable-Baselines3: 2.3.2\n",
      "- PyTorch: 2.3.0+cpu\n",
      "- GPU Enabled: False\n",
      "- Numpy: 1.26.4\n",
      "- Cloudpickle: 3.0.0\n",
      "- Gymnasium: 0.29.1\n",
      "\n",
      "== SAVED MODEL SYSTEM INFO ==\n",
      "- OS: Windows-10-10.0.22631-SP0 10.0.22631\n",
      "- Python: 3.11.9\n",
      "- Stable-Baselines3: 2.3.2\n",
      "- PyTorch: 2.3.0+cpu\n",
      "- GPU Enabled: False\n",
      "- Numpy: 1.26.4\n",
      "- Cloudpickle: 3.0.0\n",
      "- Gymnasium: 0.29.1\n",
      "\n"
     ]
    }
   ],
   "source": [
    "steps = 10000\n",
    "try:\n",
    "    model.load(\"BS_PPO_\"+str(steps),print_system_info=True)\n",
    "except:\n",
    "    model.learn(total_timesteps=steps)\n",
    "    model.save(\"BS_PPO_\"+str(steps))"
   ]
  },
  {
   "cell_type": "code",
   "execution_count": 4,
   "metadata": {},
   "outputs": [
    {
     "name": "stdout",
     "output_type": "stream",
     "text": [
      "-108829.09\n"
     ]
    }
   ],
   "source": [
    "Nepisodes = 100\n",
    "rew = []\n",
    "vec_env = model.get_env()\n",
    "for i in range(Nepisodes):\n",
    "    obs = vec_env.reset()\n",
    "    cont = True\n",
    "    i = 0\n",
    "    while cont:\n",
    "        action = model.predict(obs)\n",
    "        obs, reward, terminated, truncated = vec_env.step(action[0])\n",
    "        i += 1\n",
    "        if any([terminated,truncated]):\n",
    "            cont = False\n",
    "            rew.append(reward)\n",
    "\n",
    "print(np.mean(rew))"
   ]
  },
  {
   "cell_type": "code",
   "execution_count": null,
   "metadata": {},
   "outputs": [],
   "source": []
  }
 ],
 "metadata": {
  "kernelspec": {
   "display_name": "Python 3",
   "language": "python",
   "name": "python3"
  },
  "language_info": {
   "codemirror_mode": {
    "name": "ipython",
    "version": 3
   },
   "file_extension": ".py",
   "mimetype": "text/x-python",
   "name": "python",
   "nbconvert_exporter": "python",
   "pygments_lexer": "ipython3",
   "version": "3.11.9"
  }
 },
 "nbformat": 4,
 "nbformat_minor": 2
}
