{
 "cells": [
  {
   "cell_type": "code",
   "execution_count": 5,
   "metadata": {},
   "outputs": [],
   "source": [
    "from Env import BenchmarkReplication\n",
    "import gymnasium as gym\n",
    "from stable_baselines3 import PPO\n",
    "from stable_baselines3.common.evaluation import evaluate_policy\n",
    "from stable_baselines3.common.vec_env import DummyVecEnv\n",
    "from stable_baselines3.common.env_checker import check_env\n",
    "import numpy as np\n",
    "import random"
   ]
  },
  {
   "cell_type": "code",
   "execution_count": 6,
   "metadata": {},
   "outputs": [],
   "source": [
    "Benv = BenchmarkReplication(W = 100, N = 10, Nsim = 100, Dynamics = 'BS', start_time = 0, T = 26, dT = 1, r = 0, mu = [0.03,0.01], sigma = [0.3, 0.2])\n",
    "#check_env(Benv) #check environment is accepted by SB3\n",
    "Benv.seed(seed=random.seed(10))\n",
    "model = PPO('MlpPolicy', DummyVecEnv([lambda: Benv]), learning_rate=0.001, verbose=1)"
   ]
  },
  {
   "cell_type": "code",
   "execution_count": 9,
   "metadata": {},
   "outputs": [
    {
     "name": "stdout",
     "output_type": "stream",
     "text": [
      "-----------------------------\n",
      "| time/              |      |\n",
      "|    fps             | 1664 |\n",
      "|    iterations      | 1    |\n",
      "|    time_elapsed    | 1    |\n",
      "|    total_timesteps | 2048 |\n",
      "-----------------------------\n",
      "------------------------------------------\n",
      "| time/                   |              |\n",
      "|    fps                  | 976          |\n",
      "|    iterations           | 2            |\n",
      "|    time_elapsed         | 4            |\n",
      "|    total_timesteps      | 4096         |\n",
      "| train/                  |              |\n",
      "|    approx_kl            | 0.0122163575 |\n",
      "|    clip_fraction        | 0.141        |\n",
      "|    clip_range           | 0.2          |\n",
      "|    entropy_loss         | -56.8        |\n",
      "|    explained_variance   | 1.85e-06     |\n",
      "|    learning_rate        | 0.001        |\n",
      "|    loss                 | 2.25e+08     |\n",
      "|    n_updates            | 20           |\n",
      "|    policy_gradient_loss | -0.0132      |\n",
      "|    std                  | 1            |\n",
      "|    value_loss           | 4.52e+08     |\n",
      "------------------------------------------\n",
      "-----------------------------------------\n",
      "| time/                   |             |\n",
      "|    fps                  | 857         |\n",
      "|    iterations           | 3           |\n",
      "|    time_elapsed         | 7           |\n",
      "|    total_timesteps      | 6144        |\n",
      "| train/                  |             |\n",
      "|    approx_kl            | 0.010822507 |\n",
      "|    clip_fraction        | 0.117       |\n",
      "|    clip_range           | 0.2         |\n",
      "|    entropy_loss         | -56.8       |\n",
      "|    explained_variance   | 2.38e-07    |\n",
      "|    learning_rate        | 0.001       |\n",
      "|    loss                 | 1.86e+08    |\n",
      "|    n_updates            | 30          |\n",
      "|    policy_gradient_loss | -0.0116     |\n",
      "|    std                  | 1           |\n",
      "|    value_loss           | 7.45e+08    |\n",
      "-----------------------------------------\n",
      "-----------------------------------------\n",
      "| time/                   |             |\n",
      "|    fps                  | 803         |\n",
      "|    iterations           | 4           |\n",
      "|    time_elapsed         | 10          |\n",
      "|    total_timesteps      | 8192        |\n",
      "| train/                  |             |\n",
      "|    approx_kl            | 0.012515457 |\n",
      "|    clip_fraction        | 0.148       |\n",
      "|    clip_range           | 0.2         |\n",
      "|    entropy_loss         | -56.8       |\n",
      "|    explained_variance   | 2.38e-07    |\n",
      "|    learning_rate        | 0.001       |\n",
      "|    loss                 | 1.56e+08    |\n",
      "|    n_updates            | 40          |\n",
      "|    policy_gradient_loss | -0.015      |\n",
      "|    std                  | 1           |\n",
      "|    value_loss           | 2.28e+08    |\n",
      "-----------------------------------------\n",
      "-----------------------------------------\n",
      "| time/                   |             |\n",
      "|    fps                  | 770         |\n",
      "|    iterations           | 5           |\n",
      "|    time_elapsed         | 13          |\n",
      "|    total_timesteps      | 10240       |\n",
      "| train/                  |             |\n",
      "|    approx_kl            | 0.011942286 |\n",
      "|    clip_fraction        | 0.134       |\n",
      "|    clip_range           | 0.2         |\n",
      "|    entropy_loss         | -56.8       |\n",
      "|    explained_variance   | 5.96e-08    |\n",
      "|    learning_rate        | 0.001       |\n",
      "|    loss                 | 5.23e+08    |\n",
      "|    n_updates            | 50          |\n",
      "|    policy_gradient_loss | -0.0147     |\n",
      "|    std                  | 1           |\n",
      "|    value_loss           | 5.91e+08    |\n",
      "-----------------------------------------\n"
     ]
    }
   ],
   "source": [
    "steps = 10000\n",
    "try:\n",
    "    model.load(\"BS_PPO_\"+str(steps))\n",
    "except:\n",
    "    model.learn(total_timesteps=steps)\n",
    "    model.save(\"BS_PPO_\"+str(steps))"
   ]
  },
  {
   "cell_type": "code",
   "execution_count": 39,
   "metadata": {},
   "outputs": [
    {
     "name": "stdout",
     "output_type": "stream",
     "text": [
      "[-91.86545]\n"
     ]
    }
   ],
   "source": [
    "vec_env = model.get_env()\n",
    "obs = vec_env.reset()\n",
    "cont = True\n",
    "i = 0\n",
    "while cont:\n",
    "    action = model.predict(obs)\n",
    "    obs, reward, terminated, truncated = vec_env.step(action[0])\n",
    "    i += 1\n",
    "    if any([terminated,truncated]):\n",
    "        cont = False\n",
    "        print(reward)"
   ]
  },
  {
   "cell_type": "code",
   "execution_count": null,
   "metadata": {},
   "outputs": [],
   "source": []
  }
 ],
 "metadata": {
  "kernelspec": {
   "display_name": "Python 3",
   "language": "python",
   "name": "python3"
  },
  "language_info": {
   "codemirror_mode": {
    "name": "ipython",
    "version": 3
   },
   "file_extension": ".py",
   "mimetype": "text/x-python",
   "name": "python",
   "nbconvert_exporter": "python",
   "pygments_lexer": "ipython3",
   "version": "3.11.9"
  }
 },
 "nbformat": 4,
 "nbformat_minor": 2
}
