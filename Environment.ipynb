{
 "cells": [
  {
   "cell_type": "markdown",
   "metadata": {},
   "source": [
    "# Goal\n",
    "- A trader needs to decide how many options on SPY and XLE to buy/sell for different strikes \n",
    "\n",
    "- The goal is to replicate or maybe even outperform a benchmark composed of SPY (denoted by $X$) and XLE (denoted by $Y$)\n",
    "\n",
    "- Specifically, we want to replicate with options on $X$ and $Y$ the payoff\n",
    "\\begin{align*}\n",
    "\\xi(X,Y) = \\frac{n_XX}{n_XX+n_YY}X+\\frac{n_YY}{n_XX+n_YY}Y\n",
    "\\end{align*},\n",
    "where $n_X$ and $n_Y$ are the numbers of shares outstanding for $X$ and $Y$ respectively\n",
    "\n",
    "- The idea is that when inflation is high, XLE provides a good hedge for it, while if inflation is low, one does not want to miss growth in the stock market and so one trades SPY\n",
    "\n",
    "- Short selling options is allowed, but there is no risk free asset"
   ]
  },
  {
   "cell_type": "code",
   "execution_count": 2,
   "metadata": {},
   "outputs": [],
   "source": [
    "import numpy as np\n",
    "import matplotlib\n",
    "import scipy\n",
    "import gymnasium as gym"
   ]
  },
  {
   "cell_type": "code",
   "execution_count": 3,
   "metadata": {},
   "outputs": [],
   "source": [
    "class BenchmarkReplication():\n",
    "    \"\"\"\n",
    "    Methods:\n",
    "        step: to buy or sell any option on SPY and XLE and reveal next prices\n",
    "        reset: reset the game\n",
    "    \n",
    "    Attributes:\n",
    "        N: There are N/2 options available to trade for each underlying asset, maturing the next period. Then the player needs to make N-1 decisions.\n",
    "        cash: The cash for the player. The inital cash is W. The game stops when cash is negative\n",
    "        pos: The current position. The initial position is zero and it can be negative.\n",
    "        time: The current time. The value is in [0,T-1].\n",
    "        time_series: The price path with length T.        \n",
    "    \"\"\"\n",
    "\n",
    "    def __init__(self, W, N, sigma = [0,0], start_time = 0, T = 100):\n",
    "        self.W = W\n",
    "        self.N = N # There are N options. Then the player needs to make N-1 decisions.\n",
    "        self.sigma = sigma\n",
    "        self.start_time = start_time\n",
    "        self.T = T\n",
    "        \n",
    "    def step(self,action):\n",
    "        # There are two actions: 1 for buy and -1 for sell.\n",
    "        T = self.T\n",
    "        N = self.N\n",
    "      \n",
    "        if self.time < T-1: # If it is the final moment, we liquidate all the positions\n",
    "            self.time += 1\n",
    "            S = self.time_series[self.time]\n",
    "            payoff = 0\n",
    "            for n in range(N-1):\n",
    "                k0 = S[0] - N/2 + n\n",
    "                k1 = S[1] - N/2 + n\n",
    "                payoff = payoff + action[0][n]*max(S[0] - k0,0) + action[0][n]*max(S[1] - k1,0)\n",
    "            \n",
    "            self.cash += payoff + self.cash - S[0]*S[0]/sum(S) - S[1]*S[1]/sum(S) #The benchmark formed by SPY and XLE is subtracted\n",
    "            return (payoff, self.time, S)\n",
    "        else:\n",
    "            raise IndexError(\"The game is over! Please reset the game.\")\n",
    "\n",
    "            # we return cash, position,\n",
    "        \n",
    "        \n",
    "    def reset(self):\n",
    "        T = self.T\n",
    "        self.pos = 0 # the initial position is zero\n",
    "        self.cash = self.W # the initial cash is zero\n",
    "        self.time = self.start_time # the current time is zero\n",
    "        N = self.N\n",
    "        \n",
    "        eps0 = [self.sigma[0]*np.random.rand(1) for i in range(T)]\n",
    "        eps1 = [self.sigma[1]*np.random.rand(1) for i in range(T)]\n",
    "        \n",
    "        self.time_series = [[sum(eps0[:i]), sum(eps1[:i])] for i in range(T)]\n",
    "\n",
    "        return (self.cash,self.time,self.time_series[:self.time+1])"
   ]
  },
  {
   "cell_type": "markdown",
   "metadata": {},
   "source": [
    "This should serve as basic model to construct a portfolio of options to replicate the SPY/XLE benchmark.\n",
    "Some things to do inclulde:\n",
    "- playing a game (e.g., def a ``play`` function that first reset the game and subsequently runs step until game ends)  (Note: there are surely errors in the code above as I have not tested)\n",
    "- adding correlation in the generation of the time series\n",
    "- run the game over time series of market data\n",
    "- determine optimal length of each time step (i.e. optimal maturities to trade)"
   ]
  }
 ],
 "metadata": {
  "kernelspec": {
   "display_name": "base",
   "language": "python",
   "name": "python3"
  },
  "language_info": {
   "codemirror_mode": {
    "name": "ipython",
    "version": 3
   },
   "file_extension": ".py",
   "mimetype": "text/x-python",
   "name": "python",
   "nbconvert_exporter": "python",
   "pygments_lexer": "ipython3",
   "version": "3.11.9"
  }
 },
 "nbformat": 4,
 "nbformat_minor": 2
}
